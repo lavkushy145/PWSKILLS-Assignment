{
 "cells": [
  {
   "cell_type": "markdown",
   "id": "2551ceb7",
   "metadata": {},
   "source": [
    "# Q-1: Who Develop python Programming language?\n",
    "Guido van Rossum"
   ]
  },
  {
   "cell_type": "markdown",
   "id": "710b8f8f",
   "metadata": {},
   "source": [
    "# Q-2: Which type of programming does python support?\n",
    "    Object-oriented programming and structured programming"
   ]
  },
  {
   "cell_type": "markdown",
   "id": "7ef134cf",
   "metadata": {},
   "source": [
    "# Q-3: Is python case sensitive when dealing with identifire?\n",
    "    Yes, Python is a case-sensitive language"
   ]
  },
  {
   "cell_type": "markdown",
   "id": "3f407efa",
   "metadata": {},
   "source": [
    "# Q-4: What is the correct extention of the python file ?\n",
    "    .py"
   ]
  },
  {
   "cell_type": "markdown",
   "id": "e0f449c0",
   "metadata": {},
   "source": [
    "# Q-5: Is Python code compiled or interpreted?\n",
    "    Python is an interpreted language"
   ]
  },
  {
   "cell_type": "markdown",
   "id": "0a6c2613",
   "metadata": {},
   "source": [
    "# Q-6: Name a few blocks of code used to define in python languages?\n",
    "    a module, a function body, and a class definition."
   ]
  },
  {
   "cell_type": "markdown",
   "id": "06e1916c",
   "metadata": {},
   "source": [
    "# Q-7: State a character use to comment single line in python?\n",
    "    #"
   ]
  },
  {
   "cell_type": "markdown",
   "id": "6b26adcc",
   "metadata": {},
   "source": [
    "# Q-8: Mention functions which can help us to find the version of python that we are currently working on?\n",
    "    sys. version"
   ]
  },
  {
   "cell_type": "markdown",
   "id": "b6283f5e",
   "metadata": {},
   "source": [
    "# Q-9: Python supports the creation of anonymous functions at runtime, using a construct called--------\n",
    "    Lambda"
   ]
  },
  {
   "cell_type": "markdown",
   "id": "fd670961",
   "metadata": {},
   "source": [
    "# Q-10: What does pip stand for python?\n",
    "    preferred installer program"
   ]
  },
  {
   "cell_type": "markdown",
   "id": "eedede1c",
   "metadata": {},
   "source": [
    "# Q-11: Mention a few built-in functions in python?\n",
    "    --> print( ) function.\n",
    "    --> type( ) function.\n",
    "    --> input( ) function.\n",
    "    --> pow( ) function.\n",
    "    --> dir( ) function.\n",
    "    --> sorted( ) function.\n",
    "    --> max( ) function."
   ]
  },
  {
   "cell_type": "markdown",
   "id": "dd4429a4",
   "metadata": {},
   "source": [
    "# Q-12: What is the maximum possible length of on identifier in Python?\n",
    "    79 characters"
   ]
  },
  {
   "cell_type": "markdown",
   "id": "8b1dba72",
   "metadata": {},
   "source": [
    "# Q-13: What are the benefits of using Python?\n",
    "    --> developing websites and software, task automation, data analysis, and data visualization."
   ]
  },
  {
   "cell_type": "markdown",
   "id": "e4f35d27",
   "metadata": {},
   "source": [
    "# Q-14: How is memory managed in Python?\n",
    "    Memory management in Python involves a private heap containing all Python objects and data structures. The management of this private heap is ensured internally by the Python memory manager."
   ]
  },
  {
   "cell_type": "markdown",
   "id": "3707852d",
   "metadata": {},
   "source": [
    "# Q-15: How te install Python on Windows and set path variables?\n",
    "    \n",
    "The complete path of python.exe can be added by:\n",
    "--> Right-clicking This PC and going to Properties.\n",
    "--> Clicking on the Advanced system settings in the menu on the left.\n",
    "--> Clicking on the Environment Variables button o​n the bottom right.\n",
    "--> In the System variables section, selecting the Path variable and clicking on Edit. The next screen will show all the directories that are currently a part of the PATH variable.\n",
    "--> Clicking on New and entering Python’s install directory.\n",
    "\n",
    "Python can now be used directly from the command prompt without having to write its location. Try executing the command python --version; it will output the version of Python installed on your system."
   ]
  },
  {
   "cell_type": "markdown",
   "id": "4867cf99",
   "metadata": {},
   "source": [
    "# Q-16: Is indentation required in python?\n",
    "    The indentation in Python is very important."
   ]
  },
  {
   "cell_type": "markdown",
   "id": "7358b340",
   "metadata": {},
   "source": [
    "# Lavkush Yadav"
   ]
  }
 ],
 "metadata": {
  "kernelspec": {
   "display_name": "Python 3 (ipykernel)",
   "language": "python",
   "name": "python3"
  },
  "language_info": {
   "codemirror_mode": {
    "name": "ipython",
    "version": 3
   },
   "file_extension": ".py",
   "mimetype": "text/x-python",
   "name": "python",
   "nbconvert_exporter": "python",
   "pygments_lexer": "ipython3",
   "version": "3.10.6"
  }
 },
 "nbformat": 4,
 "nbformat_minor": 5
}
