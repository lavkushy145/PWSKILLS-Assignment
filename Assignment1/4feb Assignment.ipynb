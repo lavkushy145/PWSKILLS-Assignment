{
 "cells": [
  {
   "cell_type": "markdown",
   "id": "369e7671",
   "metadata": {},
   "source": [
    "# Q1. Create a python program to sort the given list of tuples based on integer value using a lambda function.\n",
    "[('Sachin Tendulkar', 34357), ('Ricky Ponting', 27483), ('Jack Kallis', 25534), ('Virat Kohli', 24936)]"
   ]
  },
  {
   "cell_type": "code",
   "execution_count": 8,
   "id": "d3ac4695",
   "metadata": {},
   "outputs": [
    {
     "name": "stdout",
     "output_type": "stream",
     "text": [
      "Sorted tuples based on integer value is:\n",
      "\n",
      " [('Virat Kohli', 24936), ('Jack Kallis', 25534), ('Ricky Ponting', 27483), ('Sachin Tendulkar', 34357)]\n"
     ]
    }
   ],
   "source": [
    "Given = [('Sachin Tendulkar', 34357), ('Ricky Ponting', 27483), ('Jack Kallis', 25534), ('Virat Kohli', 24936)]\n",
    "Given.sort(key = lambda x: x[1])\n",
    "print(\"Sorted tuples based on integer value is:\\n\\n\",Given)"
   ]
  },
  {
   "cell_type": "markdown",
   "id": "565e4f6e",
   "metadata": {},
   "source": [
    "# Q2. Write a Python Program to find the squares of all the numbers in the given list of integers using lambda and map functions.\n",
    "[1, 2, 3, 4, 5, 6, 7, 8, 9, 10]"
   ]
  },
  {
   "cell_type": "code",
   "execution_count": 11,
   "id": "86dc214f",
   "metadata": {},
   "outputs": [
    {
     "data": {
      "text/plain": [
       "[1, 4, 9, 16, 25, 36, 49, 64, 81, 100]"
      ]
     },
     "execution_count": 11,
     "metadata": {},
     "output_type": "execute_result"
    }
   ],
   "source": [
    "num=[1, 2, 3, 4, 5, 6, 7, 8, 9, 10]\n",
    "sqr=list(map(lambda x : x**2, num))\n",
    "sqr"
   ]
  },
  {
   "cell_type": "markdown",
   "id": "6d591272",
   "metadata": {},
   "source": [
    "# Q3. Write a python program to convert the given list of integers into a tuple of strings. Use map and lambda functions\n",
    "Given String: [1, 2, 3, 4, 5, 6, 7, 8, 9, 10]\n",
    "\n",
    "Expected output: ('1', '2', '3', '4', '5', '6', '7', '8', '9', '10')"
   ]
  },
  {
   "cell_type": "code",
   "execution_count": 1,
   "id": "967732a5",
   "metadata": {},
   "outputs": [
    {
     "name": "stdout",
     "output_type": "stream",
     "text": [
      "('1', '2', '3', '4', '5', '6', '7', '8', '9', '10')\n"
     ]
    }
   ],
   "source": [
    "nums = [1, 2, 3, 4, 5, 6, 7, 8, 9, 10]\n",
    "result = list(map(str,nums))\n",
    "Output = tuple(map(lambda x: x, result))\n",
    "print(Output)"
   ]
  },
  {
   "cell_type": "markdown",
   "id": "9e370e46",
   "metadata": {},
   "source": [
    "# Q4. Write a python program using reduce function to compute the product of a list containing numbers from 1 to 25."
   ]
  },
  {
   "cell_type": "code",
   "execution_count": 37,
   "id": "63afe0fa",
   "metadata": {},
   "outputs": [
    {
     "name": "stdout",
     "output_type": "stream",
     "text": [
      "List:  [1, 2, 3, 4, 5, 6, 7, 8, 9, 10, 11, 12, 13, 14, 15, 16, 17, 18, 19, 20, 21, 22, 23, 24, 25]\n",
      "Sum of List:  325\n"
     ]
    }
   ],
   "source": [
    "from functools import reduce \n",
    "\n",
    "nums = []\n",
    "for i in range(1,25+1):\n",
    "    nums.append(i)\n",
    "    ans = reduce(lambda x, y: x + y, nums)\n",
    "print(\"List: \",nums)\n",
    "print(\"Sum of List: \", ans)"
   ]
  },
  {
   "cell_type": "markdown",
   "id": "4c37beda",
   "metadata": {},
   "source": [
    "# Q5. Write a python program to filter the numbers in a given list that are divisible by 2 and 3 using the filter function.\n",
    "[2, 3, 6, 9, 27, 60, 90, 120, 55, 46]"
   ]
  },
  {
   "cell_type": "code",
   "execution_count": 3,
   "id": "172c5449",
   "metadata": {},
   "outputs": [
    {
     "name": "stdout",
     "output_type": "stream",
     "text": [
      "[6, 60, 90, 120]\n"
     ]
    }
   ],
   "source": [
    "nums = [2, 3, 6, 9, 27, 60, 90, 120, 55, 46]\n",
    "result = list(filter(lambda x: x%2 == 0 and x%3==0, nums))\n",
    "print(result)"
   ]
  },
  {
   "cell_type": "markdown",
   "id": "a76c71c1",
   "metadata": {},
   "source": [
    "# Q6. Write a python program to find palindromes in the given list of strings using lambda and filter function.\n",
    "['python', 'php', 'aba', 'radar', 'level']"
   ]
  },
  {
   "cell_type": "code",
   "execution_count": 20,
   "id": "1acca4d9",
   "metadata": {},
   "outputs": [
    {
     "name": "stdout",
     "output_type": "stream",
     "text": [
      "['php', 'aba', 'radar', 'level']\n"
     ]
    }
   ],
   "source": [
    "string = ['python', 'php', 'aba', 'radar', 'level']\n",
    "result = list(filter(lambda x: (x == \"\".join(reversed(x))), string)) \n",
    "print(result)"
   ]
  },
  {
   "cell_type": "markdown",
   "id": "5e71d3ca",
   "metadata": {},
   "source": [
    "# Lavkush Yadav"
   ]
  }
 ],
 "metadata": {
  "kernelspec": {
   "display_name": "Python 3 (ipykernel)",
   "language": "python",
   "name": "python3"
  },
  "language_info": {
   "codemirror_mode": {
    "name": "ipython",
    "version": 3
   },
   "file_extension": ".py",
   "mimetype": "text/x-python",
   "name": "python",
   "nbconvert_exporter": "python",
   "pygments_lexer": "ipython3",
   "version": "3.10.6"
  }
 },
 "nbformat": 4,
 "nbformat_minor": 5
}
