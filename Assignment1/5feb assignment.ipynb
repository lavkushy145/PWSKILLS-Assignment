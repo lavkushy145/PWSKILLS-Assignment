{
 "cells": [
  {
   "cell_type": "markdown",
   "id": "9f3a5079",
   "metadata": {},
   "source": [
    "# Q1. Explain Class and Object with respect to Object-Oriented Programming. Give a suitable example.\n",
    "\n",
    "Object − Objects have states and behaviors. Example: A dog has states - color, name, breed as well as behaviors – wagging the tail, barking, eating. An object is an instance of a class.\n",
    "\n",
    "\n",
    "Class − A class can be defined as a template/blueprint that describes the behavior/state that the object of its type support."
   ]
  },
  {
   "cell_type": "code",
   "execution_count": 8,
   "id": "4ea1f79c",
   "metadata": {},
   "outputs": [
    {
     "data": {
      "text/plain": [
       "('Royel Enfield', 'Black')"
      ]
     },
     "execution_count": 8,
     "metadata": {},
     "output_type": "execute_result"
    }
   ],
   "source": [
    "#Exxmple:------------------------->\n",
    "# define a class\n",
    "class Bike:\n",
    "    def __init__(self,bike_name,bike_color):\n",
    "        self.bike_name = bike_name\n",
    "        self.bike_color = bike_color\n",
    "    def return_detail(self):\n",
    "        return self.bike_name,self.bike_color\n",
    "#define Object\n",
    "detail=Bike(\"Royel Enfield\",\"Black\")\n",
    "#use Object\n",
    "detail.return_detail()"
   ]
  },
  {
   "cell_type": "markdown",
   "id": "48260b73",
   "metadata": {},
   "source": [
    "# Q2. Name the four pillars of OOPs.\n",
    "\n",
    "Four pillars in Python Are:\n",
    "\n",
    "1--> Inheritance\n",
    "\n",
    "2--> Polymorphism\n",
    "\n",
    "3--> Encapsulation\n",
    "\n",
    "4--> Abstraction."
   ]
  },
  {
   "cell_type": "markdown",
   "id": "29d76080",
   "metadata": {},
   "source": [
    "# Q3. Explain why the __init__() function is used. Give a suitable example.\n",
    "\n",
    "__init__ is one of the reserved methods in Python. In object oriented programming, it is known as a constructor. The __init__ method can be called when an object is created from the class, and access is required to initialize the attributes of the class.\n",
    "\n",
    "Use of init in Python:\n",
    "\n",
    "From the definition of __init__ shared above, you now have somewhat of an idea at what this method exactly does. In order to further clarify this concept, let’s look at an example below."
   ]
  },
  {
   "cell_type": "code",
   "execution_count": 9,
   "id": "54e10082",
   "metadata": {},
   "outputs": [
    {
     "data": {
      "text/plain": [
       "('Royel Enfield', 'Black')"
      ]
     },
     "execution_count": 9,
     "metadata": {},
     "output_type": "execute_result"
    }
   ],
   "source": [
    "#Example:----------------------->\n",
    "# define a class\n",
    "class Bike:\n",
    "    #Use of __init__\n",
    "    def __init__(self,bike_name,bike_color):\n",
    "        self.bike_name = bike_name\n",
    "        self.bike_color = bike_color\n",
    "    def return_detail(self):\n",
    "        return self.bike_name,self.bike_color\n",
    "#define Object\n",
    "detail=Bike(\"Royel Enfield\",\"Black\")\n",
    "#use Object\n",
    "detail.return_detail()"
   ]
  },
  {
   "cell_type": "markdown",
   "id": "9a8a8568",
   "metadata": {},
   "source": [
    "# Q4. Why self is used in OOPs?\n",
    "\n",
    "self represents the instance of the class. By using the “self”  we can access the attributes and methods of the class in python. It binds the attributes with the given arguments.\n",
    "\n",
    "The reason you need to use self. is because Python does not use the @ syntax to refer to instance attributes."
   ]
  },
  {
   "cell_type": "markdown",
   "id": "9bcd5d5f",
   "metadata": {},
   "source": [
    "# Q5. What is inheritance? Give an example for each type of inheritance.\n",
    "Inheritance is a process of obtaining properties and characteristics(variables and methods) of another class. In this hierarchical order, the class which inherits another class is called subclass or child class, and the other class is the parent class.\n",
    "\n",
    "Inheritance is categorized based on the hierarchy followed and the number of parent classes and subclasses involved.\n",
    "\n",
    "There are five types of inheritances:\n",
    "\n",
    "1--> Single Inheritance\n",
    "\n",
    "2--> Multiple Inheritance\n",
    "\n",
    "3--> Multilevel Inheritance\n",
    "\n",
    "4--> Hierarchical Inheritance\n",
    "\n",
    "5--> Hybrid Inheritance\n"
   ]
  },
  {
   "cell_type": "code",
   "execution_count": 12,
   "id": "20489a72",
   "metadata": {},
   "outputs": [
    {
     "name": "stdout",
     "output_type": "stream",
     "text": [
      "Hey there, you are in the parent class\n",
      "Hey there, you are in the sub class\n",
      "Hey there, you are in the parent class\n",
      "10\n",
      "5\n"
     ]
    }
   ],
   "source": [
    "#Example Single Inheritance-------------->\n",
    "#parent class\n",
    "class Above:\n",
    "    i = 5\n",
    "    def fun1(self):\n",
    "        print(\"Hey there, you are in the parent class\")\n",
    "\n",
    "#subclass\n",
    "class Below(Above):\n",
    "    i=10\n",
    "    def fun2(self):\n",
    "        print(\"Hey there, you are in the sub class\")\n",
    "\n",
    "temp1=Below()\n",
    "temp2=Above()\n",
    "temp1.fun1()\n",
    "temp1.fun2()\n",
    "temp2.fun1()\n",
    "print(temp1.i)\n",
    "print(temp2.i)"
   ]
  },
  {
   "cell_type": "code",
   "execution_count": 16,
   "id": "15c127c5",
   "metadata": {},
   "outputs": [
    {
     "name": "stdout",
     "output_type": "stream",
     "text": [
      "Hey there, you are in the child class\n",
      "first number is :  10\n",
      "second number is :  5\n"
     ]
    }
   ],
   "source": [
    "#Multiple Inheritance-------------------------------->\n",
    "#parent class 1\n",
    "class A:\n",
    "    demo1=0\n",
    "    def fun1(self):\n",
    "        print(self.demo1)\n",
    "\n",
    "#parent class 2\n",
    "class B:\n",
    "    demo2=0\n",
    "    def fun2(self):\n",
    "        print(self.demo2)\n",
    "\n",
    "#child class\n",
    "class C(A, B):\n",
    "    def fun3(self):\n",
    "        print(\"Hey there, you are in the child class\")\n",
    "\n",
    "# Main code\n",
    "c = C()\n",
    "c.demo1 = 10\n",
    "c.demo2 = 5\n",
    "c.fun3()\n",
    "print(\"first number is : \",c.demo1)\n",
    "print(\"second number is : \",c.demo2)"
   ]
  },
  {
   "cell_type": "code",
   "execution_count": 17,
   "id": "b113eaba",
   "metadata": {},
   "outputs": [
    {
     "name": "stdout",
     "output_type": "stream",
     "text": [
      "electric car runs on electricity\n",
      "a car has 4 wheels\n",
      "vehicles are used for transportation\n"
     ]
    }
   ],
   "source": [
    "#Multilevel Inheritance---------------------------->\n",
    "#parent class 1\n",
    "class vehicle:\n",
    "    def functioning(self):\n",
    "        print(\"vehicles are used for transportation\")\n",
    "\n",
    "#child class 1\n",
    "class car(vehicle):\n",
    "    def wheels(self):\n",
    "        print(\"a car has 4 wheels\")\n",
    "       \n",
    "#child class 2\n",
    "class electric_car(car):\n",
    "    def speciality(self):\n",
    "        print(\"electric car runs on electricity\")\n",
    "\n",
    "electric=electric_car()\n",
    "\n",
    "electric.speciality()\n",
    "electric.wheels()\n",
    "electric.functioning()"
   ]
  },
  {
   "cell_type": "code",
   "execution_count": 19,
   "id": "026820a3",
   "metadata": {},
   "outputs": [
    {
     "name": "stdout",
     "output_type": "stream",
     "text": [
      "Hey there, you are in the parent class\n",
      "Hey there, you are in the child class 3\n",
      "Hey there, you are in the parent class\n",
      "Hey there, you are in the child class 2\n",
      "Hey there, you are in the parent class\n",
      "Hey there, you are in the child class 1\n"
     ]
    }
   ],
   "source": [
    "#Hierarchical Inheritance--------------------->\n",
    "#parent class\n",
    "class Parent:\n",
    "    def fun1(self):\n",
    "        print(\"Hey there, you are in the parent class\")\n",
    " \n",
    "#child class 1\n",
    "class child1(Parent):\n",
    "    def fun2(self):\n",
    "        print(\"Hey there, you are in the child class 1\")\n",
    "\n",
    "#child class 2 \n",
    "class child2(Parent):\n",
    "    def fun3(self):\n",
    "        print(\"Hey there, you are in the child class 2\")\n",
    " \n",
    "#child class 3\n",
    "class child3(Parent):\n",
    "    def fun4(self):\n",
    "        print(\"Hey there, you are in the child class 3\")\n",
    " \n",
    "# main program\n",
    "child_obj1 = child3()\n",
    "child_obj2 = child2()\n",
    "child_obj3 = child1()\n",
    "child_obj1.fun1()\n",
    "child_obj1.fun4()\n",
    "child_obj2.fun1()\n",
    "child_obj2.fun3()\n",
    "child_obj3.fun1()\n",
    "child_obj3.fun2()"
   ]
  },
  {
   "cell_type": "code",
   "execution_count": 20,
   "id": "2ea19d21",
   "metadata": {},
   "outputs": [
    {
     "name": "stdout",
     "output_type": "stream",
     "text": [
      "Hey there, you are in the class D\n",
      "Hey there, you are in class C\n",
      "Hey there, you are in class A\n"
     ]
    }
   ],
   "source": [
    "#Hybrid Inheritance------------------->\n",
    "class A:\n",
    "    def fun1(self):\n",
    "        print(\"Hey there, you are in class A\")\n",
    "class B(A):\n",
    "    def fun2(self):\n",
    "        print(\"Hey there, you are in class B\")\n",
    "class C(A):\n",
    "    def fun3(self):\n",
    "        print(\"Hey there, you are in class C\")\n",
    "class D(C,A):\n",
    "    def fun4(self):\n",
    "        print(\"Hey there, you are in the class D\")\n",
    "ref = D()\n",
    "ref.fun4()\n",
    "ref.fun3()\n",
    "ref.fun1()"
   ]
  },
  {
   "cell_type": "markdown",
   "id": "6d88ed7c",
   "metadata": {},
   "source": [
    "# Lavkush Yadav"
   ]
  }
 ],
 "metadata": {
  "kernelspec": {
   "display_name": "Python 3 (ipykernel)",
   "language": "python",
   "name": "python3"
  },
  "language_info": {
   "codemirror_mode": {
    "name": "ipython",
    "version": 3
   },
   "file_extension": ".py",
   "mimetype": "text/x-python",
   "name": "python",
   "nbconvert_exporter": "python",
   "pygments_lexer": "ipython3",
   "version": "3.10.6"
  }
 },
 "nbformat": 4,
 "nbformat_minor": 5
}
