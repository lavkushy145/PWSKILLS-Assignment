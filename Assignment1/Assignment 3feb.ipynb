{
 "cells": [
  {
   "cell_type": "markdown",
   "id": "eaf817fb",
   "metadata": {},
   "source": [
    "# Q-1: Which keyword is used to create a function? Create a function to return a list of odd numbers in the range of 1 to 25."
   ]
  },
  {
   "cell_type": "code",
   "execution_count": 9,
   "id": "3dd83323",
   "metadata": {},
   "outputs": [
    {
     "data": {
      "text/plain": [
       "[2, 4, 6, 8, 10, 12, 14, 16, 18, 20, 22, 24]"
      ]
     },
     "execution_count": 9,
     "metadata": {},
     "output_type": "execute_result"
    }
   ],
   "source": [
    "#def keyword use to create function\n",
    "\n",
    "def odd(n):\n",
    "    l=[]\n",
    "    for i in range(1,n):\n",
    "        if i%2==0:\n",
    "            l.append(i)\n",
    "    return l\n",
    "odd(25)"
   ]
  },
  {
   "cell_type": "markdown",
   "id": "056ea057",
   "metadata": {},
   "source": [
    "# Q-2: Why *args and **kwargs is used in some functions? Create a function each for *args and **kwargs to demonstrate their use."
   ]
  },
  {
   "cell_type": "markdown",
   "id": "9d16974b",
   "metadata": {},
   "source": [
    "# Special Symbols Used for passing arguments:-\n",
    "\n",
    "*args (Non-Keyword Arguments)\n",
    "\n",
    "**kwargs (Keyword Arguments)\n",
    "\n",
    "--> *args\n",
    "\n",
    "The special syntax *args in function definitions in python is used to pass a variable number of arguments to a function. It is used to pass a non-key worded, variable-length argument list. "
   ]
  },
  {
   "cell_type": "code",
   "execution_count": 11,
   "id": "bd7dd12e",
   "metadata": {},
   "outputs": [
    {
     "name": "stdout",
     "output_type": "stream",
     "text": [
      "Hello\n",
      "Welcome\n",
      "to\n",
      "GeeksforGeeks\n"
     ]
    }
   ],
   "source": [
    "#example:-- *arg\n",
    "def myFun(*argv):\n",
    "    for arg in argv:\n",
    "        print(arg)\n",
    "myFun('Hello', 'Welcome', 'to', 'GeeksforGeeks')"
   ]
  },
  {
   "cell_type": "markdown",
   "id": "6825c308",
   "metadata": {},
   "source": [
    "# \n",
    "--> **kwargs\n",
    "\n",
    "The special syntax **kwargs in function definitions in python is used to pass a keyworded, variable-length argument list. We use the name kwargs with the double star. The reason is that the double star allows us to pass through keyword arguments (and any number of them)."
   ]
  },
  {
   "cell_type": "code",
   "execution_count": 13,
   "id": "9222fe75",
   "metadata": {},
   "outputs": [
    {
     "name": "stdout",
     "output_type": "stream",
     "text": [
      "first == Geeks\n",
      "mid == for\n",
      "last == Geeks\n"
     ]
    }
   ],
   "source": [
    "def myFun(**kwargs):\n",
    "    for key, value in kwargs.items():\n",
    "        print(\"%s == %s\" % (key, value))\n",
    "myFun(first='Geeks', mid='for', last='Geeks')"
   ]
  },
  {
   "cell_type": "markdown",
   "id": "2af91365",
   "metadata": {},
   "source": [
    "# Q3. What is an iterator in python? Name the method used to initialise the iterator object and the method used for iteration. Use these methods to print the first five elements of the given list [2, 4, 6, 8, 10, 12, 14, 16, 18, 20].\n",
    "An iterator is an object that can be iterated upon. In other words, we can access all the elements in an iterable object using an iterator.\n",
    "\n",
    "In python, we can create an iterator for any container object using the iter() method. The iter() method takes an iterable object as input and returns an iterator for the same object."
   ]
  },
  {
   "cell_type": "code",
   "execution_count": 8,
   "id": "662f2355",
   "metadata": {},
   "outputs": [
    {
     "name": "stdout",
     "output_type": "stream",
     "text": [
      "2 4 6 8 10 "
     ]
    }
   ],
   "source": [
    "l1=[2,4,6,8,10,12,14,16,18,20]\n",
    "iterator = iter(l1)\n",
    "for i in range(5):\n",
    "    print(next(iterator),end=\" \")"
   ]
  },
  {
   "cell_type": "markdown",
   "id": "4aa302b6",
   "metadata": {},
   "source": [
    "# Q4. What is a generator function in python? Why yield keyword is used? Give an example of a generator function.\n",
    "\n",
    "A Generator is a function that returns an object (iterator) which we can iterate over, but one value at a time.\n",
    "\n",
    "To create a generator function in Python, yield keyword is used instead of return statement in normal function. Generator function contains one or more yield statement which returns an object (iterator) but does not start execution immediately."
   ]
  },
  {
   "cell_type": "code",
   "execution_count": 9,
   "id": "7c53c134",
   "metadata": {},
   "outputs": [
    {
     "name": "stdout",
     "output_type": "stream",
     "text": [
      "[1, 3, 5, 7, 9, 11, 13, 15, 17, 19]\n"
     ]
    }
   ],
   "source": [
    "#Example\n",
    "def filter_odd(numbers):\n",
    "   for number in range(numbers):\n",
    "       if(number%2!=0):\n",
    "           yield number \n",
    "odd_numbers = filter_odd(20)\n",
    "print(list(odd_numbers))"
   ]
  },
  {
   "cell_type": "markdown",
   "id": "e6f9d2c8",
   "metadata": {},
   "source": [
    "# Q5. Create a generator function for prime numbers less than 1000. Use the next() method to print the first 20 prime numbers."
   ]
  },
  {
   "cell_type": "code",
   "execution_count": 37,
   "id": "042e48f2",
   "metadata": {},
   "outputs": [
    {
     "name": "stdout",
     "output_type": "stream",
     "text": [
      "2 3 5 7 11 13 17 19 23 29 31 37 41 43 47 53 59 61 67 71 "
     ]
    }
   ],
   "source": [
    "def prime(n):\n",
    "    for number in range (n + 1):  \n",
    "        if number > 1:  \n",
    "            for i in range (2, number):  \n",
    "                if (number % i) == 0:  \n",
    "                    break  \n",
    "            else:  \n",
    "                yield number\n",
    "generator=iter(prime(1000))     \n",
    "for i in range(20):\n",
    "    print(next(generator),end=\" \")"
   ]
  },
  {
   "cell_type": "markdown",
   "id": "b4098ed3",
   "metadata": {},
   "source": [
    "# Q6. Write a python program to print the first 10 Fibonacci numbers using a while loop."
   ]
  },
  {
   "cell_type": "code",
   "execution_count": 45,
   "id": "4f377334",
   "metadata": {},
   "outputs": [
    {
     "name": "stdout",
     "output_type": "stream",
     "text": [
      "0\n",
      "1\n",
      "1\n",
      "2\n",
      "3\n",
      "5\n",
      "8\n",
      "13\n",
      "21\n",
      "34\n"
     ]
    }
   ],
   "source": [
    "def fib(n):\n",
    "    a,b,i=0,1,1\n",
    "    while i<=n:\n",
    "        i=i+1\n",
    "        print(a)\n",
    "        a,b=b,a+b\n",
    "fib(10)"
   ]
  },
  {
   "cell_type": "markdown",
   "id": "0701f91d",
   "metadata": {},
   "source": [
    "# Q7. Write a List Comprehension to iterate through the given string: ‘pwskills’. Expected output: ['p', 'w', 's', 'k', 'i', 'l', 'l', 's']"
   ]
  },
  {
   "cell_type": "code",
   "execution_count": 53,
   "id": "28a06a23",
   "metadata": {},
   "outputs": [
    {
     "name": "stdout",
     "output_type": "stream",
     "text": [
      "['p', 'w', 's', 'k', 'i', 'l', 'l', 's']\n"
     ]
    }
   ],
   "source": [
    "l = [l1 for l1 in 'pwskills']\n",
    "print(l)"
   ]
  },
  {
   "cell_type": "markdown",
   "id": "c443d496",
   "metadata": {},
   "source": [
    "# Q8. Write a python program to check whether a given number is Palindrome or not using a while loop."
   ]
  },
  {
   "cell_type": "code",
   "execution_count": 56,
   "id": "3eb15e6d",
   "metadata": {},
   "outputs": [
    {
     "name": "stdout",
     "output_type": "stream",
     "text": [
      "Enter a number: 121\n",
      "The number is palindrome\n"
     ]
    }
   ],
   "source": [
    "num=int(input(\"Enter a number: \"))\n",
    "temp=num\n",
    "rev=0\n",
    "while(num>0):\n",
    "    dig=num%10\n",
    "    rev=rev*10+dig\n",
    "    num=num//10\n",
    "if(temp==rev):\n",
    "    print(\"The number is palindrome\")\n",
    "else:\n",
    "    print(\"Not a palindrome\")"
   ]
  },
  {
   "cell_type": "markdown",
   "id": "a170f9f6",
   "metadata": {},
   "source": [
    "# Q9. Write a code to print odd numbers from 1 to 100 using list comprehension."
   ]
  },
  {
   "cell_type": "code",
   "execution_count": 57,
   "id": "ba46b8e4",
   "metadata": {},
   "outputs": [
    {
     "name": "stdout",
     "output_type": "stream",
     "text": [
      "[1, 3, 5, 7, 9, 11, 13, 15, 17, 19, 21, 23, 25, 27, 29, 31, 33, 35, 37, 39, 41, 43, 45, 47, 49, 51, 53, 55, 57, 59, 61, 63, 65, 67, 69, 71, 73, 75, 77, 79, 81, 83, 85, 87, 89, 91, 93, 95, 97, 99]\n"
     ]
    }
   ],
   "source": [
    "odd = [n for n in range(1, 101) if n % 2 == 1 ]\n",
    "print(odd)"
   ]
  },
  {
   "cell_type": "markdown",
   "id": "29ebc4ef",
   "metadata": {},
   "source": [
    "# Lavkush Yadav"
   ]
  },
  {
   "cell_type": "code",
   "execution_count": null,
   "id": "92fb433d",
   "metadata": {},
   "outputs": [],
   "source": []
  }
 ],
 "metadata": {
  "kernelspec": {
   "display_name": "Python 3 (ipykernel)",
   "language": "python",
   "name": "python3"
  },
  "language_info": {
   "codemirror_mode": {
    "name": "ipython",
    "version": 3
   },
   "file_extension": ".py",
   "mimetype": "text/x-python",
   "name": "python",
   "nbconvert_exporter": "python",
   "pygments_lexer": "ipython3",
   "version": "3.10.6"
  }
 },
 "nbformat": 4,
 "nbformat_minor": 5
}
